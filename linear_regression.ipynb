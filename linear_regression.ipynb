{
 "cells": [
  {
   "cell_type": "code",
   "execution_count": 1,
   "id": "8921c198",
   "metadata": {},
   "outputs": [
    {
     "name": "stdout",
     "output_type": "stream",
     "text": [
      "['.git', '.gitignore', '.ipynb_checkpoints', 'Heart.csv', 'initial_exploration.ipynb', 'linear_regression.ipynb', 'README.md']\n"
     ]
    }
   ],
   "source": [
    "import numpy as np\n",
    "import pandas as pd\n",
    "import matplotlib.pyplot as plt\n",
    "import seaborn as sns\n",
    "\n",
    "%matplotlib inline\n",
    "\n",
    "import os\n",
    "print(os.listdir())\n",
    "\n",
    "import warnings\n",
    "warnings.filterwarnings('ignore')"
   ]
  },
  {
   "cell_type": "code",
   "execution_count": 2,
   "id": "ecda944b",
   "metadata": {},
   "outputs": [],
   "source": [
    "heart_data=pd.read_csv('Heart.csv')"
   ]
  },
  {
   "cell_type": "markdown",
   "id": "22527ccb",
   "metadata": {},
   "source": [
    "## 2. Features : All except target\n",
    "1. Target: Will predict if a person has a disease or not\n",
    "2. Based on the features(sex, cp, trestbps, chol, fbs, restecg, thalach, exang, oldpeak, slope, ca, thal), a model will be developed which will predict if a person is suffering from heart disease or not"
   ]
  },
  {
   "cell_type": "code",
   "execution_count": 3,
   "id": "ef93a129",
   "metadata": {},
   "outputs": [],
   "source": [
    "X = heart_data.iloc[:, :-1].values\n",
    "y = heart_data.iloc[:, -1].values"
   ]
  },
  {
   "cell_type": "code",
   "execution_count": 4,
   "id": "8403a159",
   "metadata": {},
   "outputs": [],
   "source": [
    "from sklearn import preprocessing\n",
    "min_max_scaler = preprocessing.MinMaxScaler(feature_range =(0, 1))  \n",
    "X_preprocessed = min_max_scaler.fit_transform(X)"
   ]
  },
  {
   "cell_type": "code",
   "execution_count": 5,
   "id": "3f9222ee",
   "metadata": {},
   "outputs": [],
   "source": [
    "from sklearn.model_selection import train_test_split\n",
    "X_train,X_test,Y_train,Y_test = train_test_split(X_preprocessed,y,test_size=0.20,random_state=0)"
   ]
  },
  {
   "cell_type": "markdown",
   "id": "acf1b2c3",
   "metadata": {},
   "source": [
    "## linear regression cannot be performed on this type of data, since the target variable is categorical"
   ]
  },
  {
   "cell_type": "code",
   "execution_count": 8,
   "id": "450f12bd",
   "metadata": {},
   "outputs": [
    {
     "data": {
      "text/html": [
       "<style>#sk-container-id-1 {color: black;background-color: white;}#sk-container-id-1 pre{padding: 0;}#sk-container-id-1 div.sk-toggleable {background-color: white;}#sk-container-id-1 label.sk-toggleable__label {cursor: pointer;display: block;width: 100%;margin-bottom: 0;padding: 0.3em;box-sizing: border-box;text-align: center;}#sk-container-id-1 label.sk-toggleable__label-arrow:before {content: \"▸\";float: left;margin-right: 0.25em;color: #696969;}#sk-container-id-1 label.sk-toggleable__label-arrow:hover:before {color: black;}#sk-container-id-1 div.sk-estimator:hover label.sk-toggleable__label-arrow:before {color: black;}#sk-container-id-1 div.sk-toggleable__content {max-height: 0;max-width: 0;overflow: hidden;text-align: left;background-color: #f0f8ff;}#sk-container-id-1 div.sk-toggleable__content pre {margin: 0.2em;color: black;border-radius: 0.25em;background-color: #f0f8ff;}#sk-container-id-1 input.sk-toggleable__control:checked~div.sk-toggleable__content {max-height: 200px;max-width: 100%;overflow: auto;}#sk-container-id-1 input.sk-toggleable__control:checked~label.sk-toggleable__label-arrow:before {content: \"▾\";}#sk-container-id-1 div.sk-estimator input.sk-toggleable__control:checked~label.sk-toggleable__label {background-color: #d4ebff;}#sk-container-id-1 div.sk-label input.sk-toggleable__control:checked~label.sk-toggleable__label {background-color: #d4ebff;}#sk-container-id-1 input.sk-hidden--visually {border: 0;clip: rect(1px 1px 1px 1px);clip: rect(1px, 1px, 1px, 1px);height: 1px;margin: -1px;overflow: hidden;padding: 0;position: absolute;width: 1px;}#sk-container-id-1 div.sk-estimator {font-family: monospace;background-color: #f0f8ff;border: 1px dotted black;border-radius: 0.25em;box-sizing: border-box;margin-bottom: 0.5em;}#sk-container-id-1 div.sk-estimator:hover {background-color: #d4ebff;}#sk-container-id-1 div.sk-parallel-item::after {content: \"\";width: 100%;border-bottom: 1px solid gray;flex-grow: 1;}#sk-container-id-1 div.sk-label:hover label.sk-toggleable__label {background-color: #d4ebff;}#sk-container-id-1 div.sk-serial::before {content: \"\";position: absolute;border-left: 1px solid gray;box-sizing: border-box;top: 0;bottom: 0;left: 50%;z-index: 0;}#sk-container-id-1 div.sk-serial {display: flex;flex-direction: column;align-items: center;background-color: white;padding-right: 0.2em;padding-left: 0.2em;position: relative;}#sk-container-id-1 div.sk-item {position: relative;z-index: 1;}#sk-container-id-1 div.sk-parallel {display: flex;align-items: stretch;justify-content: center;background-color: white;position: relative;}#sk-container-id-1 div.sk-item::before, #sk-container-id-1 div.sk-parallel-item::before {content: \"\";position: absolute;border-left: 1px solid gray;box-sizing: border-box;top: 0;bottom: 0;left: 50%;z-index: -1;}#sk-container-id-1 div.sk-parallel-item {display: flex;flex-direction: column;z-index: 1;position: relative;background-color: white;}#sk-container-id-1 div.sk-parallel-item:first-child::after {align-self: flex-end;width: 50%;}#sk-container-id-1 div.sk-parallel-item:last-child::after {align-self: flex-start;width: 50%;}#sk-container-id-1 div.sk-parallel-item:only-child::after {width: 0;}#sk-container-id-1 div.sk-dashed-wrapped {border: 1px dashed gray;margin: 0 0.4em 0.5em 0.4em;box-sizing: border-box;padding-bottom: 0.4em;background-color: white;}#sk-container-id-1 div.sk-label label {font-family: monospace;font-weight: bold;display: inline-block;line-height: 1.2em;}#sk-container-id-1 div.sk-label-container {text-align: center;}#sk-container-id-1 div.sk-container {/* jupyter's `normalize.less` sets `[hidden] { display: none; }` but bootstrap.min.css set `[hidden] { display: none !important; }` so we also need the `!important` here to be able to override the default hidden behavior on the sphinx rendered scikit-learn.org. See: https://github.com/scikit-learn/scikit-learn/issues/21755 */display: inline-block !important;position: relative;}#sk-container-id-1 div.sk-text-repr-fallback {display: none;}</style><div id=\"sk-container-id-1\" class=\"sk-top-container\"><div class=\"sk-text-repr-fallback\"><pre>LogisticRegression()</pre><b>In a Jupyter environment, please rerun this cell to show the HTML representation or trust the notebook. <br />On GitHub, the HTML representation is unable to render, please try loading this page with nbviewer.org.</b></div><div class=\"sk-container\" hidden><div class=\"sk-item\"><div class=\"sk-estimator sk-toggleable\"><input class=\"sk-toggleable__control sk-hidden--visually\" id=\"sk-estimator-id-1\" type=\"checkbox\" checked><label for=\"sk-estimator-id-1\" class=\"sk-toggleable__label sk-toggleable__label-arrow\">LogisticRegression</label><div class=\"sk-toggleable__content\"><pre>LogisticRegression()</pre></div></div></div></div></div>"
      ],
      "text/plain": [
       "LogisticRegression()"
      ]
     },
     "execution_count": 8,
     "metadata": {},
     "output_type": "execute_result"
    }
   ],
   "source": [
    "from sklearn.linear_model import LogisticRegression\n",
    "lr = LogisticRegression()\n",
    "lr.fit(X_train,Y_train)"
   ]
  },
  {
   "cell_type": "code",
   "execution_count": 9,
   "id": "54e8a4f8",
   "metadata": {},
   "outputs": [],
   "source": [
    "from sklearn.metrics import accuracy_score"
   ]
  },
  {
   "cell_type": "code",
   "execution_count": 10,
   "id": "62b804b2",
   "metadata": {},
   "outputs": [],
   "source": [
    "Y_pred_lr = lr.predict(X_test)"
   ]
  },
  {
   "cell_type": "code",
   "execution_count": 11,
   "id": "cf6f88c0",
   "metadata": {},
   "outputs": [
    {
     "name": "stdout",
     "output_type": "stream",
     "text": [
      "The accuracy score achieved using Logistic Regression is: 83.61 %\n"
     ]
    }
   ],
   "source": [
    "score_lr = round(accuracy_score(Y_pred_lr,Y_test)*100,2)  \n",
    "print(\"The accuracy score achieved using Logistic Regression is: \"+str(score_lr)+\" %\")"
   ]
  },
  {
   "cell_type": "code",
   "execution_count": 12,
   "id": "3c16719a",
   "metadata": {},
   "outputs": [
    {
     "name": "stdout",
     "output_type": "stream",
     "text": [
      "              precision    recall  f1-score   support\n",
      "\n",
      "           0       0.88      0.76      0.81        29\n",
      "           1       0.81      0.91      0.85        32\n",
      "\n",
      "    accuracy                           0.84        61\n",
      "   macro avg       0.84      0.83      0.83        61\n",
      "weighted avg       0.84      0.84      0.83        61\n",
      "\n"
     ]
    }
   ],
   "source": [
    "from sklearn.metrics import classification_report\n",
    "print(classification_report(Y_test, Y_pred_lr))"
   ]
  },
  {
   "cell_type": "markdown",
   "id": "763e9c74",
   "metadata": {},
   "source": [
    "## 4. Results \n",
    "1. Accuracy obtained using logistic regression is 83.61%. \n",
    "2. Precision is high for the people who are not effected with heart disease.\n",
    "3. Recall is high for the people who are effected with heart disease. "
   ]
  },
  {
   "cell_type": "code",
   "execution_count": 13,
   "id": "24602cf8",
   "metadata": {},
   "outputs": [],
   "source": [
    "from sklearn.model_selection import train_test_split\n",
    "\n",
    "X_train2,X_test2,Y_train2,Y_test2 = train_test_split(X_preprocessed,y,test_size=0.3,random_state=0)"
   ]
  },
  {
   "cell_type": "code",
   "execution_count": 14,
   "id": "82ae0027",
   "metadata": {},
   "outputs": [
    {
     "data": {
      "text/html": [
       "<style>#sk-container-id-2 {color: black;background-color: white;}#sk-container-id-2 pre{padding: 0;}#sk-container-id-2 div.sk-toggleable {background-color: white;}#sk-container-id-2 label.sk-toggleable__label {cursor: pointer;display: block;width: 100%;margin-bottom: 0;padding: 0.3em;box-sizing: border-box;text-align: center;}#sk-container-id-2 label.sk-toggleable__label-arrow:before {content: \"▸\";float: left;margin-right: 0.25em;color: #696969;}#sk-container-id-2 label.sk-toggleable__label-arrow:hover:before {color: black;}#sk-container-id-2 div.sk-estimator:hover label.sk-toggleable__label-arrow:before {color: black;}#sk-container-id-2 div.sk-toggleable__content {max-height: 0;max-width: 0;overflow: hidden;text-align: left;background-color: #f0f8ff;}#sk-container-id-2 div.sk-toggleable__content pre {margin: 0.2em;color: black;border-radius: 0.25em;background-color: #f0f8ff;}#sk-container-id-2 input.sk-toggleable__control:checked~div.sk-toggleable__content {max-height: 200px;max-width: 100%;overflow: auto;}#sk-container-id-2 input.sk-toggleable__control:checked~label.sk-toggleable__label-arrow:before {content: \"▾\";}#sk-container-id-2 div.sk-estimator input.sk-toggleable__control:checked~label.sk-toggleable__label {background-color: #d4ebff;}#sk-container-id-2 div.sk-label input.sk-toggleable__control:checked~label.sk-toggleable__label {background-color: #d4ebff;}#sk-container-id-2 input.sk-hidden--visually {border: 0;clip: rect(1px 1px 1px 1px);clip: rect(1px, 1px, 1px, 1px);height: 1px;margin: -1px;overflow: hidden;padding: 0;position: absolute;width: 1px;}#sk-container-id-2 div.sk-estimator {font-family: monospace;background-color: #f0f8ff;border: 1px dotted black;border-radius: 0.25em;box-sizing: border-box;margin-bottom: 0.5em;}#sk-container-id-2 div.sk-estimator:hover {background-color: #d4ebff;}#sk-container-id-2 div.sk-parallel-item::after {content: \"\";width: 100%;border-bottom: 1px solid gray;flex-grow: 1;}#sk-container-id-2 div.sk-label:hover label.sk-toggleable__label {background-color: #d4ebff;}#sk-container-id-2 div.sk-serial::before {content: \"\";position: absolute;border-left: 1px solid gray;box-sizing: border-box;top: 0;bottom: 0;left: 50%;z-index: 0;}#sk-container-id-2 div.sk-serial {display: flex;flex-direction: column;align-items: center;background-color: white;padding-right: 0.2em;padding-left: 0.2em;position: relative;}#sk-container-id-2 div.sk-item {position: relative;z-index: 1;}#sk-container-id-2 div.sk-parallel {display: flex;align-items: stretch;justify-content: center;background-color: white;position: relative;}#sk-container-id-2 div.sk-item::before, #sk-container-id-2 div.sk-parallel-item::before {content: \"\";position: absolute;border-left: 1px solid gray;box-sizing: border-box;top: 0;bottom: 0;left: 50%;z-index: -1;}#sk-container-id-2 div.sk-parallel-item {display: flex;flex-direction: column;z-index: 1;position: relative;background-color: white;}#sk-container-id-2 div.sk-parallel-item:first-child::after {align-self: flex-end;width: 50%;}#sk-container-id-2 div.sk-parallel-item:last-child::after {align-self: flex-start;width: 50%;}#sk-container-id-2 div.sk-parallel-item:only-child::after {width: 0;}#sk-container-id-2 div.sk-dashed-wrapped {border: 1px dashed gray;margin: 0 0.4em 0.5em 0.4em;box-sizing: border-box;padding-bottom: 0.4em;background-color: white;}#sk-container-id-2 div.sk-label label {font-family: monospace;font-weight: bold;display: inline-block;line-height: 1.2em;}#sk-container-id-2 div.sk-label-container {text-align: center;}#sk-container-id-2 div.sk-container {/* jupyter's `normalize.less` sets `[hidden] { display: none; }` but bootstrap.min.css set `[hidden] { display: none !important; }` so we also need the `!important` here to be able to override the default hidden behavior on the sphinx rendered scikit-learn.org. See: https://github.com/scikit-learn/scikit-learn/issues/21755 */display: inline-block !important;position: relative;}#sk-container-id-2 div.sk-text-repr-fallback {display: none;}</style><div id=\"sk-container-id-2\" class=\"sk-top-container\"><div class=\"sk-text-repr-fallback\"><pre>LogisticRegression()</pre><b>In a Jupyter environment, please rerun this cell to show the HTML representation or trust the notebook. <br />On GitHub, the HTML representation is unable to render, please try loading this page with nbviewer.org.</b></div><div class=\"sk-container\" hidden><div class=\"sk-item\"><div class=\"sk-estimator sk-toggleable\"><input class=\"sk-toggleable__control sk-hidden--visually\" id=\"sk-estimator-id-2\" type=\"checkbox\" checked><label for=\"sk-estimator-id-2\" class=\"sk-toggleable__label sk-toggleable__label-arrow\">LogisticRegression</label><div class=\"sk-toggleable__content\"><pre>LogisticRegression()</pre></div></div></div></div></div>"
      ],
      "text/plain": [
       "LogisticRegression()"
      ]
     },
     "execution_count": 14,
     "metadata": {},
     "output_type": "execute_result"
    }
   ],
   "source": [
    "from sklearn.linear_model import LogisticRegression\n",
    "\n",
    "lr = LogisticRegression()\n",
    "\n",
    "lr.fit(X_train2,Y_train2)"
   ]
  },
  {
   "cell_type": "code",
   "execution_count": 15,
   "id": "c3a1398d",
   "metadata": {},
   "outputs": [
    {
     "name": "stdout",
     "output_type": "stream",
     "text": [
      "80.43\n"
     ]
    }
   ],
   "source": [
    "from sklearn.metrics import accuracy_score\n",
    "Y_pred_lr2 = lr.predict(X_test2)\n",
    "score_lr = round(accuracy_score(Y_pred_lr2,Y_test2)*100,2)\n",
    "print(score_lr)"
   ]
  },
  {
   "cell_type": "code",
   "execution_count": 16,
   "id": "36be6a69",
   "metadata": {},
   "outputs": [
    {
     "name": "stdout",
     "output_type": "stream",
     "text": [
      "              precision    recall  f1-score   support\n",
      "\n",
      "           0       0.82      0.75      0.79        44\n",
      "           1       0.79      0.85      0.82        48\n",
      "\n",
      "    accuracy                           0.80        92\n",
      "   macro avg       0.81      0.80      0.80        92\n",
      "weighted avg       0.81      0.80      0.80        92\n",
      "\n"
     ]
    }
   ],
   "source": [
    "from sklearn.metrics import classification_report\n",
    "print(classification_report(Y_test2, Y_pred_lr2))"
   ]
  },
  {
   "cell_type": "markdown",
   "id": "3417676c",
   "metadata": {},
   "source": [
    "## Looking at the parameters what I found and learnt are:\n",
    "- The data set contained categorical data, where the Linear Regression cannot be performed \n",
    "- Logistic Regression must be used \n",
    "- Difference in accuracy can be identified by changing the % of training and test datasets\n",
    "- By changing the lengths of training and test sets, there will be change in precision, recall and accuracy \n",
    "- Resulting in better prediction and analysis "
   ]
  },
  {
   "cell_type": "markdown",
   "id": "6749720f",
   "metadata": {},
   "source": [
    "## Important Features\n",
    "| Column |  Non-Null Count | Dtype |  \n",
    "| ---    |   ---           |  ----- |\n",
    "| 0 |  age |   304 non-null |  int64 |  \n",
    "| 1 |  sex |   304 non-null |  int64 |\n",
    "| 2 |  cp |    304 non-null |  int64 |\n",
    "| 3 |trestbps|  304 non-null| int64| \n",
    "| 4 | chol |    304 non-null|    int64|  \n",
    "| 5 |  fbs  |     304 non-null|    int64|  \n",
    "| 6 | restecg|   304 non-null|   int64|  \n",
    "| 7 |  thalach|   304 non-null|    int64|  \n",
    "| 8   |exang     |304 non-null    |int64  |\n",
    "| 9  | oldpeak |  304 non-null|    float64|\n",
    "| 10  |slope     |304 non-null    |int64  |\n",
    "| 11|  ca |       304 non-null|    int64 | \n",
    "| 12|  thal|      304 non-null|    int64|   "
   ]
  },
  {
   "cell_type": "markdown",
   "id": "3409fb0d",
   "metadata": {},
   "source": [
    "# Machine-Learning-Project-Starter\n",
    "Repository of all project documentation and Code\n",
    "\n",
    "## State of the project\n",
    "Logistic Regression is used to implement the model\n",
    "\n",
    "Important Results:\n",
    "\n",
    "               precision    recall  f1-score   support\n",
    "\n",
    "           0       0.82      0.75      0.79        44\n",
    "           1       0.79      0.85      0.82        48\n",
    "\n",
    "    accuracy                           0.80        92\n",
    "   macro avg       0.81      0.80      0.80        92\n",
    "weighted avg       0.81      0.80      0.80        92\n",
    "\n",
    "## Overview of the project\n",
    "In this project, I worked with the heart data of people to develop a machine learning model. This System predicts the arising possibilities of heart disease. \n",
    "Considering all the features taken, will contribute to the output prediction if a person has a disease or not. This will be more of a classification type which will predict 1 for positive result that is person suffering from heart disease and 0 that is negative for a person not suffering from heart disease\n",
    "\n",
    "\n",
    "## Important Features\n",
    "| Column |  Non-Null Count | Dtype |  \n",
    "| ---    |   ---           |  ----- |\n",
    "| 0 |  age |   304 non-null |  int64 |  \n",
    "| 1 |  sex |   304 non-null |  int64 |\n",
    "| 2 |  cp |    304 non-null |  int64 |\n",
    "|3   |trestbps  |304 non-null    |int64 | \n",
    "| 4 |  chol |     304 non-null|    int64 | \n",
    " |5 |  fbs  |     304 non-null|    int64|  \n",
    " |6 |  restecg|   304 non-null|    int64|  \n",
    " |7 |  thalach|   304 non-null|    int64|  \n",
    " |8 |  exang  |   304 non-null|    int64 | \n",
    "| 9 |  oldpeak |  304 non-null|    float64|\n",
    " |10|  slope  |   304 non-null|    int64|  \n",
    " |11|  ca     |   304 non-null|    int64|  \n",
    " |12|  thal      304 non-null|    int64|   \n",
    "\n",
    "There were some interesting relations between the features in dataset which I have shown using visualization.\n",
    "\n",
    "The target variable is 'target'. This variable can have two possible outcomes: 0 or 1 where 0 refers to the case where a person don't have a heart disease and 1 refers to a case where a person has a heart disease.\n",
    "\n",
    "## Exploratory Data Analysis\n",
    "I came up with some interesting questions on the dataset and I tried to find answers for the same during EDA process through visualization.\n",
    "\n",
    "## Data Preprocessing\n",
    "Performed - \n",
    "1. Removing missing values\n",
    "2. Feature scaling \n",
    "3. Splitting the data into training and testing sets\n",
    "\n",
    "## Models used:\n",
    "Logistic Regression is incredibly easy to implement and very efficient to train. \n",
    "\n",
    "(Logistic Regression implementation is best instead of Linear Regression because the target variable in the dataset is of type categorical, not continuous. So, my dataset is not suitable for linear regression.)\n",
    "\n",
    "\n",
    "## Conclusion: \n",
    "I found that adding features to the data can help overcome underfitting, getting more data i.e., increasing records in data can help overcome overfitting. \n",
    "\n",
    "\n",
    "\n",
    "\n",
    "\n"
   ]
  }
 ],
 "metadata": {
  "kernelspec": {
   "display_name": "Python 3 (ipykernel)",
   "language": "python",
   "name": "python3"
  },
  "language_info": {
   "codemirror_mode": {
    "name": "ipython",
    "version": 3
   },
   "file_extension": ".py",
   "mimetype": "text/x-python",
   "name": "python",
   "nbconvert_exporter": "python",
   "pygments_lexer": "ipython3",
   "version": "3.10.6"
  }
 },
 "nbformat": 4,
 "nbformat_minor": 5
}
