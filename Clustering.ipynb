{
 "cells": [
  {
   "cell_type": "markdown",
   "id": "b9a7192a",
   "metadata": {},
   "source": [
    "### Data prep"
   ]
  },
  {
   "cell_type": "code",
   "execution_count": 1,
   "id": "89588857",
   "metadata": {},
   "outputs": [
    {
     "name": "stdout",
     "output_type": "stream",
     "text": [
      "['.android', '.atom', '.bash_history', '.cache', '.conda', '.config', '.dataloader', '.dbshell', '.eclipse', '.emulator_console_auth_token', '.gitconfig', '.gradle', '.idea', '.ipynb_checkpoints', '.ipython', '.jdks', '.jupyter', '.lemminx', '.lesshst', '.m2', '.matplotlib', '.mongorc.js', '.ms-ad', '.nbi', '.openjfx', '.p2', '.spyder-py3', '.ssh', '.sts4', '.viminfo', '.VirtualBox', '.vscode', '3D Objects', 'android', 'AndroidStudioProjects', 'AppData', 'Application Data', 'ass.py', 'Assignment0.ipynb', 'Assignment4.ipynb', 'Assignment6.ipynb', 'BB_stats_2000.csv', 'Classification_heart (1).ipynb', 'Clustering.ipynb', 'Cookies', 'dataloader', 'Desktop', 'Documents', 'Downloads', 'ds-venv', 'dsA.csv', 'dsB.csv', 'dsC.csv', 'dsD.csv', 'dsE.csv', 'dsF.csv', 'dsG.csv', 'dsH.csv', 'DT.ipynb', 'eclipse', 'eclipse-workspace', 'Encryption1MAY_5', 'Favorites', 'fn.py', 'Heart.csv', 'IntelGraphicsProfiles', 'Jedi', 'Linear_regression.ipynb', 'Links', 'Local Settings', 'milestone.ipynb', 'Ml_Assignments', 'Music', 'My Documents', 'NetBeansProjects', 'NetHood', 'NTUSER.DAT', 'ntuser.dat.LOG1', 'ntuser.dat.LOG2', 'NTUSER.DAT{53b39e88-18c4-11ea-a811-000d3aa4692b}.TM.blf', 'NTUSER.DAT{53b39e88-18c4-11ea-a811-000d3aa4692b}.TMContainer00000000000000000001.regtrans-ms', 'NTUSER.DAT{53b39e88-18c4-11ea-a811-000d3aa4692b}.TMContainer00000000000000000002.regtrans-ms', 'ntuser.ini', 'Oracle', 'Pictures', 'pizza_orderr.py', 'Postman', 'Postman Agent', 'PrintHood', 'python', 'pythonF22', 'python_basic_structures.ipynb', 'range.py', 'Recent', 'salary.dot', 'salary.eps', 'salary.png', 'Saved Games', 'Searches', 'SendTo', 'Start Menu', 'Templates', 'threeDplot.ipynb', 'tree.dot', 'Untitled.ipynb', 'Videos', '_netrc']\n"
     ]
    }
   ],
   "source": [
    "import numpy as np\n",
    "import pandas as pd\n",
    "import matplotlib.pyplot as plt\n",
    "import seaborn as sns\n",
    "\n",
    "%matplotlib inline\n",
    "\n",
    "import os\n",
    "print(os.listdir())\n",
    "\n",
    "import warnings\n",
    "warnings.filterwarnings('ignore')"
   ]
  },
  {
   "cell_type": "code",
   "execution_count": 2,
   "id": "c4d2a0f4",
   "metadata": {},
   "outputs": [],
   "source": [
    "heart_data=pd.read_csv('Heart.csv')"
   ]
  },
  {
   "cell_type": "code",
   "execution_count": 3,
   "id": "16934447",
   "metadata": {},
   "outputs": [],
   "source": [
    "X = heart_data.iloc[:, :-1].values\n",
    "y = heart_data.iloc[:, -1].values"
   ]
  },
  {
   "cell_type": "code",
   "execution_count": 4,
   "id": "6b1c6d81",
   "metadata": {},
   "outputs": [],
   "source": [
    "from sklearn import preprocessing\n",
    "  \n",
    "min_max_scaler = preprocessing.MinMaxScaler(feature_range =(0, 1))\n",
    "  \n",
    "X_preprocessed = min_max_scaler.fit_transform(X)"
   ]
  },
  {
   "cell_type": "code",
   "execution_count": 5,
   "id": "c662d08d",
   "metadata": {},
   "outputs": [],
   "source": [
    "from sklearn.model_selection import train_test_split\n",
    "\n",
    "X_train,X_test,Y_train,Y_test = train_test_split(X_preprocessed,y,test_size=0.20,random_state=0)"
   ]
  },
  {
   "cell_type": "markdown",
   "id": "961ef1b4",
   "metadata": {},
   "source": [
    "### K means clustering using elbow method"
   ]
  },
  {
   "cell_type": "code",
   "execution_count": 6,
   "id": "efda8c8f",
   "metadata": {},
   "outputs": [
    {
     "data": {
      "image/png": "[encoded data removed]",
      "text/plain": [
       "<Figure size 640x480 with 1 Axes>"
      ]
     },
     "metadata": {},
     "output_type": "display_data"
    }
   ],
   "source": [
    "from sklearn.cluster import KMeans\n",
    "wcss = []\n",
    "for i in range(1, 11):\n",
    "    kmeans = KMeans(n_clusters = i, init = 'k-means++', random_state = 42)\n",
    "    kmeans.fit(X)\n",
    "    wcss.append(kmeans.inertia_)\n",
    "plt.plot(range(1, 11), wcss)\n",
    "plt.title('The Elbow Method')\n",
    "plt.xlabel('Number of clusters')\n",
    "plt.ylabel('WCSS')\n",
    "plt.show()"
   ]
  },
  {
   "cell_type": "code",
   "execution_count": 31,
   "id": "a99f6b0d",
   "metadata": {},
   "outputs": [
    {
     "name": "stdout",
     "output_type": "stream",
     "text": [
      "[4 4 0 4 1 0 1 4 0 0 4 5 4 2 1 4 1 2 4 4 4 4 4 5 0 1 0 2 3 0 0 2 0 5 2 0 1\n",
      " 4 5 1 1 4 0 5 1 1 4 4 2 4 4 1 4 0 4 0 4 4 0 1 5 1 0 2 0 0 2 4 4 0 4 4 0 4\n",
      " 0 4 4 4 0 4 4 1 1 1 5 3 5 0 0 5 4 0 4 1 2 2 3 4 1 4 4 5 0 4 0 2 5 4 4 4 1\n",
      " 0 1 0 4 0 0 0 0 4 1 4 4 4 0 0 2 1 0 5 0 4 1 4 1 4 2 2 2 5 1 1 0 2 2 5 4 4\n",
      " 4 0 4 2 4 5 4 2 4 0 2 4 4 1 0 0 0 5 2 4 4 0 5 4 1 4 2 2 4 1 2 5 1 2 1 4 5\n",
      " 1 4 5 4 0 1 2 2 5 0 1 4 4 5 4 0 5 5 5 0 4 4 4 2 0 4 5 2 1 4 1 5 1 5 4 3 2\n",
      " 1 5 5 2 5 2 1 1 4 5 1 5 1 1 1 1 1 1 5 5 2 5 2 4 3 5 1 5 1 4 5 1 5 1 5 2 4\n",
      " 4 4 4 5 4 2 2 1 2 5 5 4 4 5 4 5 0 2 5 1 2 1 0 2 4 2 1 0 4 1 2 0 1 4 2 0 2\n",
      " 2 2 5 5 2 2 4 4]\n"
     ]
    }
   ],
   "source": [
    "kmeans = KMeans(n_clusters = 6, init = 'k-means++', random_state = 42)\n",
    "y_kmeans = kmeans.fit_predict(X)\n",
    "print(y_kmeans)"
   ]
  },
  {
   "cell_type": "code",
   "execution_count": 32,
   "id": "da4a6207",
   "metadata": {},
   "outputs": [
    {
     "name": "stdout",
     "output_type": "stream",
     "text": [
      "The centroids are  [[4.80754717e+01 6.79245283e-01 1.30188679e+00 1.28886792e+02\n",
      "  1.93660377e+02 1.69811321e-01 6.79245283e-01 1.67283019e+02\n",
      "  1.50943396e-01 7.52830189e-01 1.58490566e+00 4.52830189e-01\n",
      "  2.15094340e+00]\n",
      " [5.55964912e+01 5.78947368e-01 8.42105263e-01 1.35263158e+02\n",
      "  3.10070175e+02 1.40350877e-01 5.26315789e-01 1.53298246e+02\n",
      "  3.68421053e-01 9.96491228e-01 1.52631579e+00 7.71929825e-01\n",
      "  2.33333333e+00]\n",
      " [5.73265306e+01 7.55102041e-01 6.73469388e-01 1.27530612e+02\n",
      "  1.97836735e+02 1.02040816e-01 5.71428571e-01 1.26489796e+02\n",
      "  4.69387755e-01 1.43265306e+00 1.20408163e+00 8.36734694e-01\n",
      "  2.30612245e+00]\n",
      " [6.26000000e+01 0.00000000e+00 8.00000000e-01 1.35800000e+02\n",
      "  4.38200000e+02 2.00000000e-01 0.00000000e+00 1.55600000e+02\n",
      "  2.00000000e-01 1.90000000e+00 1.20000000e+00 1.20000000e+00\n",
      "  2.60000000e+00]\n",
      " [5.23186813e+01 7.14285714e-01 1.08791209e+00 1.29802198e+02\n",
      "  2.42285714e+02 1.42857143e-01 5.27472527e-01 1.63076923e+02\n",
      "  2.19780220e-01 7.86813187e-01 1.49450549e+00 6.59340659e-01\n",
      "  2.30769231e+00]\n",
      " [5.98163265e+01 7.34693878e-01 8.36734694e-01 1.37408163e+02\n",
      "  2.64959184e+02 1.83673469e-01 3.87755102e-01 1.24448980e+02\n",
      "  5.30612245e-01 1.38775510e+00 1.08163265e+00 9.59183673e-01\n",
      "  2.46938776e+00]]\n",
      "Assignments are: \n",
      "[4 4 0 4 1 0 1 4 0 0 4 5 4 2 1 4 1 2 4 4 4 4 4 5 0 1 0 2 3 0 0 2 0 5 2 0 1\n",
      " 4 5 1 1 4 0 5 1 1 4 4 2 4 4 1 4 0 4 0 4 4 0 1 5 1 0 2 0 0 2 4 4 0 4 4 0 4\n",
      " 0 4 4 4 0 4 4 1 1 1 5 3 5 0 0 5 4 0 4 1 2 2 3 4 1 4 4 5 0 4 0 2 5 4 4 4 1\n",
      " 0 1 0 4 0 0 0 0 4 1 4 4 4 0 0 2 1 0 5 0 4 1 4 1 4 2 2 2 5 1 1 0 2 2 5 4 4\n",
      " 4 0 4 2 4 5 4 2 4 0 2 4 4 1 0 0 0 5 2 4 4 0 5 4 1 4 2 2 4 1 2 5 1 2 1 4 5\n",
      " 1 4 5 4 0 1 2 2 5 0 1 4 4 5 4 0 5 5 5 0 4 4 4 2 0 4 5 2 1 4 1 5 1 5 4 3 2\n",
      " 1 5 5 2 5 2 1 1 4 5 1 5 1 1 1 1 1 1 5 5 2 5 2 4 3 5 1 5 1 4 5 1 5 1 5 2 4\n",
      " 4 4 4 5 4 2 2 1 2 5 5 4 4 5 4 5 0 2 5 1 2 1 0 2 4 2 1 0 4 1 2 0 1 4 2 0 2\n",
      " 2 2 5 5 2 2 4 4]\n"
     ]
    }
   ],
   "source": [
    "print(\"The centroids are \", kmeans.cluster_centers_)\n",
    "\n",
    "print(\"Assignments are: \")\n",
    "print(kmeans.labels_)"
   ]
  },
  {
   "cell_type": "markdown",
   "id": "9f46d2d5",
   "metadata": {},
   "source": [
    "### Dimensional Analysis"
   ]
  },
  {
   "cell_type": "code",
   "execution_count": 9,
   "id": "483846d7",
   "metadata": {},
   "outputs": [
    {
     "data": {
      "text/html": [
       "<style>#sk-container-id-1 {color: black;background-color: white;}#sk-container-id-1 pre{padding: 0;}#sk-container-id-1 div.sk-toggleable {background-color: white;}#sk-container-id-1 label.sk-toggleable__label {cursor: pointer;display: block;width: 100%;margin-bottom: 0;padding: 0.3em;box-sizing: border-box;text-align: center;}#sk-container-id-1 label.sk-toggleable__label-arrow:before {content: \"▸\";float: left;margin-right: 0.25em;color: #696969;}#sk-container-id-1 label.sk-toggleable__label-arrow:hover:before {color: black;}#sk-container-id-1 div.sk-estimator:hover label.sk-toggleable__label-arrow:before {color: black;}#sk-container-id-1 div.sk-toggleable__content {max-height: 0;max-width: 0;overflow: hidden;text-align: left;background-color: #f0f8ff;}#sk-container-id-1 div.sk-toggleable__content pre {margin: 0.2em;color: black;border-radius: 0.25em;background-color: #f0f8ff;}#sk-container-id-1 input.sk-toggleable__control:checked~div.sk-toggleable__content {max-height: 200px;max-width: 100%;overflow: auto;}#sk-container-id-1 input.sk-toggleable__control:checked~label.sk-toggleable__label-arrow:before {content: \"▾\";}#sk-container-id-1 div.sk-estimator input.sk-toggleable__control:checked~label.sk-toggleable__label {background-color: #d4ebff;}#sk-container-id-1 div.sk-label input.sk-toggleable__control:checked~label.sk-toggleable__label {background-color: #d4ebff;}#sk-container-id-1 input.sk-hidden--visually {border: 0;clip: rect(1px 1px 1px 1px);clip: rect(1px, 1px, 1px, 1px);height: 1px;margin: -1px;overflow: hidden;padding: 0;position: absolute;width: 1px;}#sk-container-id-1 div.sk-estimator {font-family: monospace;background-color: #f0f8ff;border: 1px dotted black;border-radius: 0.25em;box-sizing: border-box;margin-bottom: 0.5em;}#sk-container-id-1 div.sk-estimator:hover {background-color: #d4ebff;}#sk-container-id-1 div.sk-parallel-item::after {content: \"\";width: 100%;border-bottom: 1px solid gray;flex-grow: 1;}#sk-container-id-1 div.sk-label:hover label.sk-toggleable__label {background-color: #d4ebff;}#sk-container-id-1 div.sk-serial::before {content: \"\";position: absolute;border-left: 1px solid gray;box-sizing: border-box;top: 0;bottom: 0;left: 50%;z-index: 0;}#sk-container-id-1 div.sk-serial {display: flex;flex-direction: column;align-items: center;background-color: white;padding-right: 0.2em;padding-left: 0.2em;position: relative;}#sk-container-id-1 div.sk-item {position: relative;z-index: 1;}#sk-container-id-1 div.sk-parallel {display: flex;align-items: stretch;justify-content: center;background-color: white;position: relative;}#sk-container-id-1 div.sk-item::before, #sk-container-id-1 div.sk-parallel-item::before {content: \"\";position: absolute;border-left: 1px solid gray;box-sizing: border-box;top: 0;bottom: 0;left: 50%;z-index: -1;}#sk-container-id-1 div.sk-parallel-item {display: flex;flex-direction: column;z-index: 1;position: relative;background-color: white;}#sk-container-id-1 div.sk-parallel-item:first-child::after {align-self: flex-end;width: 50%;}#sk-container-id-1 div.sk-parallel-item:last-child::after {align-self: flex-start;width: 50%;}#sk-container-id-1 div.sk-parallel-item:only-child::after {width: 0;}#sk-container-id-1 div.sk-dashed-wrapped {border: 1px dashed gray;margin: 0 0.4em 0.5em 0.4em;box-sizing: border-box;padding-bottom: 0.4em;background-color: white;}#sk-container-id-1 div.sk-label label {font-family: monospace;font-weight: bold;display: inline-block;line-height: 1.2em;}#sk-container-id-1 div.sk-label-container {text-align: center;}#sk-container-id-1 div.sk-container {/* jupyter's `normalize.less` sets `[hidden] { display: none; }` but bootstrap.min.css set `[hidden] { display: none !important; }` so we also need the `!important` here to be able to override the default hidden behavior on the sphinx rendered scikit-learn.org. See: https://github.com/scikit-learn/scikit-learn/issues/21755 */display: inline-block !important;position: relative;}#sk-container-id-1 div.sk-text-repr-fallback {display: none;}</style><div id=\"sk-container-id-1\" class=\"sk-top-container\"><div class=\"sk-text-repr-fallback\"><pre>LogisticRegression(random_state=0)</pre><b>In a Jupyter environment, please rerun this cell to show the HTML representation or trust the notebook. <br />On GitHub, the HTML representation is unable to render, please try loading this page with nbviewer.org.</b></div><div class=\"sk-container\" hidden><div class=\"sk-item\"><div class=\"sk-estimator sk-toggleable\"><input class=\"sk-toggleable__control sk-hidden--visually\" id=\"sk-estimator-id-1\" type=\"checkbox\" checked><label for=\"sk-estimator-id-1\" class=\"sk-toggleable__label sk-toggleable__label-arrow\">LogisticRegression</label><div class=\"sk-toggleable__content\"><pre>LogisticRegression(random_state=0)</pre></div></div></div></div></div>"
      ],
      "text/plain": [
       "LogisticRegression(random_state=0)"
      ]
     },
     "execution_count": 9,
     "metadata": {},
     "output_type": "execute_result"
    }
   ],
   "source": [
    "from sklearn.discriminant_analysis import LinearDiscriminantAnalysis as LDA\n",
    "lda = LDA(n_components = 1)\n",
    "X_train = lda.fit_transform(X_train, Y_train)\n",
    "X_test = lda.transform(X_test)\n",
    "from sklearn.linear_model import LogisticRegression\n",
    "classifier = LogisticRegression(random_state = 0)\n",
    "classifier.fit(X_train, Y_train)"
   ]
  },
  {
   "cell_type": "code",
   "execution_count": 10,
   "id": "d0811b6a",
   "metadata": {},
   "outputs": [
    {
     "name": "stdout",
     "output_type": "stream",
     "text": [
      "[[23  6]\n",
      " [ 2 30]]\n"
     ]
    },
    {
     "data": {
      "text/plain": [
       "0.8688524590163934"
      ]
     },
     "execution_count": 10,
     "metadata": {},
     "output_type": "execute_result"
    }
   ],
   "source": [
    "from sklearn.metrics import confusion_matrix, accuracy_score\n",
    "y_pred = classifier.predict(X_test)\n",
    "cm = confusion_matrix(Y_test, y_pred)\n",
    "print(cm)\n",
    "accuracy_score(Y_test, y_pred)"
   ]
  },
  {
   "cell_type": "markdown",
   "id": "7bc40313",
   "metadata": {},
   "source": [
    "### 3. Visualize and create a narrative about what you have discovered in the data. Don't just be descriptive, think predictively\n",
    "#### As the data is supervised, PCA is not possible. As the data which I considered has only 2 classes for prediction, LDA is not supportable due to the below statement. n_components cannot be larger than min(n_features, n_classes - 1. So, dimensional analysis is not possible. The data can be viewd from clusters. To perform dimensional analysis, we need two axis, x-axis and y-axis. Here, number of classes are two, n_components min(features, n_classes-1) i.e. 2-1=1. min(features, 1), minimum is 1. So, we are getting only one axis, we cannot perform dimensional analysis with one axis.\n",
    "#### As the data do not contain any anomolous data and the data is supervised, we can predict it with any supervised models like random forest, neural nets and regression to get best accuracy. For the dataset, we got 6 clusters as shown above. "
   ]
  },
  {
   "cell_type": "markdown",
   "id": "1330752a",
   "metadata": {},
   "source": [
    "### Anomolous data\n",
    "#### There is no anomolous data for this dataset. Anomaly detection is identifying data points in data that don't fit the normal patterns. We usually perform anomaly detection to make it more effective, especially when large datasets are involved. As explained above. The dataset do not have anomolous data.\n"
   ]
  },
  {
   "cell_type": "markdown",
   "id": "8cb2359c",
   "metadata": {},
   "source": [
    "#### Random Forrest"
   ]
  },
  {
   "cell_type": "code",
   "execution_count": 13,
   "id": "73936e9a",
   "metadata": {},
   "outputs": [
    {
     "data": {
      "text/html": [
       "<style>#sk-container-id-3 {color: black;background-color: white;}#sk-container-id-3 pre{padding: 0;}#sk-container-id-3 div.sk-toggleable {background-color: white;}#sk-container-id-3 label.sk-toggleable__label {cursor: pointer;display: block;width: 100%;margin-bottom: 0;padding: 0.3em;box-sizing: border-box;text-align: center;}#sk-container-id-3 label.sk-toggleable__label-arrow:before {content: \"▸\";float: left;margin-right: 0.25em;color: #696969;}#sk-container-id-3 label.sk-toggleable__label-arrow:hover:before {color: black;}#sk-container-id-3 div.sk-estimator:hover label.sk-toggleable__label-arrow:before {color: black;}#sk-container-id-3 div.sk-toggleable__content {max-height: 0;max-width: 0;overflow: hidden;text-align: left;background-color: #f0f8ff;}#sk-container-id-3 div.sk-toggleable__content pre {margin: 0.2em;color: black;border-radius: 0.25em;background-color: #f0f8ff;}#sk-container-id-3 input.sk-toggleable__control:checked~div.sk-toggleable__content {max-height: 200px;max-width: 100%;overflow: auto;}#sk-container-id-3 input.sk-toggleable__control:checked~label.sk-toggleable__label-arrow:before {content: \"▾\";}#sk-container-id-3 div.sk-estimator input.sk-toggleable__control:checked~label.sk-toggleable__label {background-color: #d4ebff;}#sk-container-id-3 div.sk-label input.sk-toggleable__control:checked~label.sk-toggleable__label {background-color: #d4ebff;}#sk-container-id-3 input.sk-hidden--visually {border: 0;clip: rect(1px 1px 1px 1px);clip: rect(1px, 1px, 1px, 1px);height: 1px;margin: -1px;overflow: hidden;padding: 0;position: absolute;width: 1px;}#sk-container-id-3 div.sk-estimator {font-family: monospace;background-color: #f0f8ff;border: 1px dotted black;border-radius: 0.25em;box-sizing: border-box;margin-bottom: 0.5em;}#sk-container-id-3 div.sk-estimator:hover {background-color: #d4ebff;}#sk-container-id-3 div.sk-parallel-item::after {content: \"\";width: 100%;border-bottom: 1px solid gray;flex-grow: 1;}#sk-container-id-3 div.sk-label:hover label.sk-toggleable__label {background-color: #d4ebff;}#sk-container-id-3 div.sk-serial::before {content: \"\";position: absolute;border-left: 1px solid gray;box-sizing: border-box;top: 0;bottom: 0;left: 50%;z-index: 0;}#sk-container-id-3 div.sk-serial {display: flex;flex-direction: column;align-items: center;background-color: white;padding-right: 0.2em;padding-left: 0.2em;position: relative;}#sk-container-id-3 div.sk-item {position: relative;z-index: 1;}#sk-container-id-3 div.sk-parallel {display: flex;align-items: stretch;justify-content: center;background-color: white;position: relative;}#sk-container-id-3 div.sk-item::before, #sk-container-id-3 div.sk-parallel-item::before {content: \"\";position: absolute;border-left: 1px solid gray;box-sizing: border-box;top: 0;bottom: 0;left: 50%;z-index: -1;}#sk-container-id-3 div.sk-parallel-item {display: flex;flex-direction: column;z-index: 1;position: relative;background-color: white;}#sk-container-id-3 div.sk-parallel-item:first-child::after {align-self: flex-end;width: 50%;}#sk-container-id-3 div.sk-parallel-item:last-child::after {align-self: flex-start;width: 50%;}#sk-container-id-3 div.sk-parallel-item:only-child::after {width: 0;}#sk-container-id-3 div.sk-dashed-wrapped {border: 1px dashed gray;margin: 0 0.4em 0.5em 0.4em;box-sizing: border-box;padding-bottom: 0.4em;background-color: white;}#sk-container-id-3 div.sk-label label {font-family: monospace;font-weight: bold;display: inline-block;line-height: 1.2em;}#sk-container-id-3 div.sk-label-container {text-align: center;}#sk-container-id-3 div.sk-container {/* jupyter's `normalize.less` sets `[hidden] { display: none; }` but bootstrap.min.css set `[hidden] { display: none !important; }` so we also need the `!important` here to be able to override the default hidden behavior on the sphinx rendered scikit-learn.org. See: https://github.com/scikit-learn/scikit-learn/issues/21755 */display: inline-block !important;position: relative;}#sk-container-id-3 div.sk-text-repr-fallback {display: none;}</style><div id=\"sk-container-id-3\" class=\"sk-top-container\"><div class=\"sk-text-repr-fallback\"><pre>RandomForestClassifier(criterion=&#x27;entropy&#x27;, n_estimators=10, random_state=0)</pre><b>In a Jupyter environment, please rerun this cell to show the HTML representation or trust the notebook. <br />On GitHub, the HTML representation is unable to render, please try loading this page with nbviewer.org.</b></div><div class=\"sk-container\" hidden><div class=\"sk-item\"><div class=\"sk-estimator sk-toggleable\"><input class=\"sk-toggleable__control sk-hidden--visually\" id=\"sk-estimator-id-3\" type=\"checkbox\" checked><label for=\"sk-estimator-id-3\" class=\"sk-toggleable__label sk-toggleable__label-arrow\">RandomForestClassifier</label><div class=\"sk-toggleable__content\"><pre>RandomForestClassifier(criterion=&#x27;entropy&#x27;, n_estimators=10, random_state=0)</pre></div></div></div></div></div>"
      ],
      "text/plain": [
       "RandomForestClassifier(criterion='entropy', n_estimators=10, random_state=0)"
      ]
     },
     "execution_count": 13,
     "metadata": {},
     "output_type": "execute_result"
    }
   ],
   "source": [
    "from sklearn.ensemble import RandomForestClassifier\n",
    "classifier1 = RandomForestClassifier(n_estimators = 10, criterion = 'entropy', random_state = 0)\n",
    "classifier1.fit(X_train, Y_train)\n"
   ]
  },
  {
   "cell_type": "code",
   "execution_count": 14,
   "id": "53472a8c",
   "metadata": {},
   "outputs": [
    {
     "name": "stdout",
     "output_type": "stream",
     "text": [
      "[[22  7]\n",
      " [ 9 23]]\n"
     ]
    },
    {
     "data": {
      "text/plain": [
       "0.7377049180327869"
      ]
     },
     "execution_count": 14,
     "metadata": {},
     "output_type": "execute_result"
    }
   ],
   "source": [
    "y_pred1 = classifier1.predict(X_test)\n",
    "from sklearn.metrics import confusion_matrix, accuracy_score\n",
    "cm = confusion_matrix(Y_test, y_pred1)\n",
    "print(cm)\n",
    "accuracy_score(Y_test, y_pred1)"
   ]
  },
  {
   "cell_type": "code",
   "execution_count": 26,
   "id": "189a74cf",
   "metadata": {},
   "outputs": [
    {
     "name": "stdout",
     "output_type": "stream",
     "text": [
      "Requirement already satisfied: tensorflow in c:\\users\\s545684\\ds-venv\\lib\\site-packages (2.11.0)Note: you may need to restart the kernel to use updated packages.\n"
     ]
    },
    {
     "name": "stderr",
     "output_type": "stream",
     "text": [
      "\n",
      "[notice] A new release of pip available: 22.2.1 -> 22.3.1\n",
      "[notice] To update, run: python.exe -m pip install --upgrade pip\n"
     ]
    },
    {
     "name": "stdout",
     "output_type": "stream",
     "text": [
      "\n",
      "Requirement already satisfied: tensorflow-intel==2.11.0 in c:\\users\\s545684\\ds-venv\\lib\\site-packages (from tensorflow) (2.11.0)\n",
      "Requirement already satisfied: six>=1.12.0 in c:\\users\\s545684\\ds-venv\\lib\\site-packages (from tensorflow-intel==2.11.0->tensorflow) (1.16.0)\n",
      "Requirement already satisfied: setuptools in c:\\users\\s545684\\ds-venv\\lib\\site-packages (from tensorflow-intel==2.11.0->tensorflow) (63.2.0)\n",
      "Requirement already satisfied: google-pasta>=0.1.1 in c:\\users\\s545684\\ds-venv\\lib\\site-packages (from tensorflow-intel==2.11.0->tensorflow) (0.2.0)\n",
      "Requirement already satisfied: packaging in c:\\users\\s545684\\ds-venv\\lib\\site-packages (from tensorflow-intel==2.11.0->tensorflow) (21.3)\n",
      "Requirement already satisfied: tensorflow-estimator<2.12,>=2.11.0 in c:\\users\\s545684\\ds-venv\\lib\\site-packages (from tensorflow-intel==2.11.0->tensorflow) (2.11.0)\n",
      "Requirement already satisfied: termcolor>=1.1.0 in c:\\users\\s545684\\ds-venv\\lib\\site-packages (from tensorflow-intel==2.11.0->tensorflow) (2.1.0)\n",
      "Requirement already satisfied: numpy>=1.20 in c:\\users\\s545684\\ds-venv\\lib\\site-packages (from tensorflow-intel==2.11.0->tensorflow) (1.23.2)\n",
      "Requirement already satisfied: opt-einsum>=2.3.2 in c:\\users\\s545684\\ds-venv\\lib\\site-packages (from tensorflow-intel==2.11.0->tensorflow) (3.3.0)\n",
      "Requirement already satisfied: gast<=0.4.0,>=0.2.1 in c:\\users\\s545684\\ds-venv\\lib\\site-packages (from tensorflow-intel==2.11.0->tensorflow) (0.4.0)\n",
      "Requirement already satisfied: libclang>=13.0.0 in c:\\users\\s545684\\ds-venv\\lib\\site-packages (from tensorflow-intel==2.11.0->tensorflow) (14.0.6)\n",
      "Requirement already satisfied: wrapt>=1.11.0 in c:\\users\\s545684\\ds-venv\\lib\\site-packages (from tensorflow-intel==2.11.0->tensorflow) (1.14.1)\n",
      "Requirement already satisfied: tensorflow-io-gcs-filesystem>=0.23.1 in c:\\users\\s545684\\ds-venv\\lib\\site-packages (from tensorflow-intel==2.11.0->tensorflow) (0.27.0)\n",
      "Requirement already satisfied: flatbuffers>=2.0 in c:\\users\\s545684\\ds-venv\\lib\\site-packages (from tensorflow-intel==2.11.0->tensorflow) (22.10.26)\n",
      "Requirement already satisfied: h5py>=2.9.0 in c:\\users\\s545684\\ds-venv\\lib\\site-packages (from tensorflow-intel==2.11.0->tensorflow) (3.7.0)\n",
      "Requirement already satisfied: astunparse>=1.6.0 in c:\\users\\s545684\\ds-venv\\lib\\site-packages (from tensorflow-intel==2.11.0->tensorflow) (1.6.3)\n",
      "Requirement already satisfied: protobuf<3.20,>=3.9.2 in c:\\users\\s545684\\ds-venv\\lib\\site-packages (from tensorflow-intel==2.11.0->tensorflow) (3.19.6)\n",
      "Requirement already satisfied: absl-py>=1.0.0 in c:\\users\\s545684\\ds-venv\\lib\\site-packages (from tensorflow-intel==2.11.0->tensorflow) (1.3.0)\n",
      "Requirement already satisfied: keras<2.12,>=2.11.0 in c:\\users\\s545684\\ds-venv\\lib\\site-packages (from tensorflow-intel==2.11.0->tensorflow) (2.11.0)\n",
      "Requirement already satisfied: tensorboard<2.12,>=2.11 in c:\\users\\s545684\\ds-venv\\lib\\site-packages (from tensorflow-intel==2.11.0->tensorflow) (2.11.0)\n",
      "Requirement already satisfied: grpcio<2.0,>=1.24.3 in c:\\users\\s545684\\ds-venv\\lib\\site-packages (from tensorflow-intel==2.11.0->tensorflow) (1.50.0)\n",
      "Requirement already satisfied: typing-extensions>=3.6.6 in c:\\users\\s545684\\ds-venv\\lib\\site-packages (from tensorflow-intel==2.11.0->tensorflow) (4.4.0)\n",
      "Requirement already satisfied: wheel<1.0,>=0.23.0 in c:\\users\\s545684\\ds-venv\\lib\\site-packages (from astunparse>=1.6.0->tensorflow-intel==2.11.0->tensorflow) (0.38.4)\n",
      "Requirement already satisfied: google-auth<3,>=1.6.3 in c:\\users\\s545684\\ds-venv\\lib\\site-packages (from tensorboard<2.12,>=2.11->tensorflow-intel==2.11.0->tensorflow) (2.14.1)\n",
      "Requirement already satisfied: google-auth-oauthlib<0.5,>=0.4.1 in c:\\users\\s545684\\ds-venv\\lib\\site-packages (from tensorboard<2.12,>=2.11->tensorflow-intel==2.11.0->tensorflow) (0.4.6)\n",
      "Requirement already satisfied: requests<3,>=2.21.0 in c:\\users\\s545684\\ds-venv\\lib\\site-packages (from tensorboard<2.12,>=2.11->tensorflow-intel==2.11.0->tensorflow) (2.28.1)\n",
      "Requirement already satisfied: tensorboard-data-server<0.7.0,>=0.6.0 in c:\\users\\s545684\\ds-venv\\lib\\site-packages (from tensorboard<2.12,>=2.11->tensorflow-intel==2.11.0->tensorflow) (0.6.1)\n",
      "Requirement already satisfied: tensorboard-plugin-wit>=1.6.0 in c:\\users\\s545684\\ds-venv\\lib\\site-packages (from tensorboard<2.12,>=2.11->tensorflow-intel==2.11.0->tensorflow) (1.8.1)\n",
      "Requirement already satisfied: markdown>=2.6.8 in c:\\users\\s545684\\ds-venv\\lib\\site-packages (from tensorboard<2.12,>=2.11->tensorflow-intel==2.11.0->tensorflow) (3.4.1)\n",
      "Requirement already satisfied: werkzeug>=1.0.1 in c:\\users\\s545684\\ds-venv\\lib\\site-packages (from tensorboard<2.12,>=2.11->tensorflow-intel==2.11.0->tensorflow) (2.2.2)\n",
      "Requirement already satisfied: pyparsing!=3.0.5,>=2.0.2 in c:\\users\\s545684\\ds-venv\\lib\\site-packages (from packaging->tensorflow-intel==2.11.0->tensorflow) (3.0.9)\n",
      "Requirement already satisfied: pyasn1-modules>=0.2.1 in c:\\users\\s545684\\ds-venv\\lib\\site-packages (from google-auth<3,>=1.6.3->tensorboard<2.12,>=2.11->tensorflow-intel==2.11.0->tensorflow) (0.2.8)\n",
      "Requirement already satisfied: rsa<5,>=3.1.4 in c:\\users\\s545684\\ds-venv\\lib\\site-packages (from google-auth<3,>=1.6.3->tensorboard<2.12,>=2.11->tensorflow-intel==2.11.0->tensorflow) (4.9)\n",
      "Requirement already satisfied: cachetools<6.0,>=2.0.0 in c:\\users\\s545684\\ds-venv\\lib\\site-packages (from google-auth<3,>=1.6.3->tensorboard<2.12,>=2.11->tensorflow-intel==2.11.0->tensorflow) (5.2.0)\n",
      "Requirement already satisfied: requests-oauthlib>=0.7.0 in c:\\users\\s545684\\ds-venv\\lib\\site-packages (from google-auth-oauthlib<0.5,>=0.4.1->tensorboard<2.12,>=2.11->tensorflow-intel==2.11.0->tensorflow) (1.3.1)\n",
      "Requirement already satisfied: charset-normalizer<3,>=2 in c:\\users\\s545684\\ds-venv\\lib\\site-packages (from requests<3,>=2.21.0->tensorboard<2.12,>=2.11->tensorflow-intel==2.11.0->tensorflow) (2.1.1)\n",
      "Requirement already satisfied: urllib3<1.27,>=1.21.1 in c:\\users\\s545684\\ds-venv\\lib\\site-packages (from requests<3,>=2.21.0->tensorboard<2.12,>=2.11->tensorflow-intel==2.11.0->tensorflow) (1.26.12)\n",
      "Requirement already satisfied: idna<4,>=2.5 in c:\\users\\s545684\\ds-venv\\lib\\site-packages (from requests<3,>=2.21.0->tensorboard<2.12,>=2.11->tensorflow-intel==2.11.0->tensorflow) (3.3)\n",
      "Requirement already satisfied: certifi>=2017.4.17 in c:\\users\\s545684\\ds-venv\\lib\\site-packages (from requests<3,>=2.21.0->tensorboard<2.12,>=2.11->tensorflow-intel==2.11.0->tensorflow) (2022.6.15)\n",
      "Requirement already satisfied: MarkupSafe>=2.1.1 in c:\\users\\s545684\\ds-venv\\lib\\site-packages (from werkzeug>=1.0.1->tensorboard<2.12,>=2.11->tensorflow-intel==2.11.0->tensorflow) (2.1.1)\n",
      "Requirement already satisfied: pyasn1<0.5.0,>=0.4.6 in c:\\users\\s545684\\ds-venv\\lib\\site-packages (from pyasn1-modules>=0.2.1->google-auth<3,>=1.6.3->tensorboard<2.12,>=2.11->tensorflow-intel==2.11.0->tensorflow) (0.4.8)\n",
      "Requirement already satisfied: oauthlib>=3.0.0 in c:\\users\\s545684\\ds-venv\\lib\\site-packages (from requests-oauthlib>=0.7.0->google-auth-oauthlib<0.5,>=0.4.1->tensorboard<2.12,>=2.11->tensorflow-intel==2.11.0->tensorflow) (3.2.2)\n"
     ]
    }
   ],
   "source": [
    "pip install tensorflow"
   ]
  },
  {
   "cell_type": "code",
   "execution_count": 27,
   "id": "6546da2b",
   "metadata": {},
   "outputs": [
    {
     "name": "stdout",
     "output_type": "stream",
     "text": [
      "Epoch 1/200\n",
      "8/8 [==============================] - 2s 3ms/step - loss: 0.7347 - accuracy: 0.5432\n",
      "Epoch 2/200\n",
      "8/8 [==============================] - 0s 3ms/step - loss: 0.7257 - accuracy: 0.5432\n",
      "Epoch 3/200\n",
      "8/8 [==============================] - 0s 3ms/step - loss: 0.7173 - accuracy: 0.5473\n",
      "Epoch 4/200\n",
      "8/8 [==============================] - 0s 4ms/step - loss: 0.7088 - accuracy: 0.5514\n",
      "Epoch 5/200\n",
      "8/8 [==============================] - 0s 4ms/step - loss: 0.7003 - accuracy: 0.5514\n",
      "Epoch 6/200\n",
      "8/8 [==============================] - 0s 3ms/step - loss: 0.6917 - accuracy: 0.5514\n",
      "Epoch 7/200\n",
      "8/8 [==============================] - 0s 3ms/step - loss: 0.6833 - accuracy: 0.5514\n",
      "Epoch 8/200\n",
      "8/8 [==============================] - 0s 4ms/step - loss: 0.6749 - accuracy: 0.5473\n",
      "Epoch 9/200\n",
      "8/8 [==============================] - 0s 4ms/step - loss: 0.6663 - accuracy: 0.5473\n",
      "Epoch 10/200\n",
      "8/8 [==============================] - 0s 4ms/step - loss: 0.6577 - accuracy: 0.5514\n",
      "Epoch 11/200\n",
      "8/8 [==============================] - 0s 4ms/step - loss: 0.6489 - accuracy: 0.5473\n",
      "Epoch 12/200\n",
      "8/8 [==============================] - 0s 4ms/step - loss: 0.6404 - accuracy: 0.5391\n",
      "Epoch 13/200\n",
      "8/8 [==============================] - 0s 4ms/step - loss: 0.6315 - accuracy: 0.5391\n",
      "Epoch 14/200\n",
      "8/8 [==============================] - 0s 4ms/step - loss: 0.6224 - accuracy: 0.5432\n",
      "Epoch 15/200\n",
      "8/8 [==============================] - 0s 5ms/step - loss: 0.6133 - accuracy: 0.5514\n",
      "Epoch 16/200\n",
      "8/8 [==============================] - 0s 5ms/step - loss: 0.6043 - accuracy: 0.5720\n",
      "Epoch 17/200\n",
      "8/8 [==============================] - 0s 4ms/step - loss: 0.5951 - accuracy: 0.5802\n",
      "Epoch 18/200\n",
      "8/8 [==============================] - 0s 4ms/step - loss: 0.5861 - accuracy: 0.5885\n",
      "Epoch 19/200\n",
      "8/8 [==============================] - 0s 4ms/step - loss: 0.5772 - accuracy: 0.6502\n",
      "Epoch 20/200\n",
      "8/8 [==============================] - 0s 4ms/step - loss: 0.5684 - accuracy: 0.6790\n",
      "Epoch 21/200\n",
      "8/8 [==============================] - 0s 4ms/step - loss: 0.5599 - accuracy: 0.7366\n",
      "Epoch 22/200\n",
      "8/8 [==============================] - 0s 3ms/step - loss: 0.5520 - accuracy: 0.7901\n",
      "Epoch 23/200\n",
      "8/8 [==============================] - 0s 3ms/step - loss: 0.5452 - accuracy: 0.8354\n",
      "Epoch 24/200\n",
      "8/8 [==============================] - 0s 4ms/step - loss: 0.5384 - accuracy: 0.8313\n",
      "Epoch 25/200\n",
      "8/8 [==============================] - 0s 4ms/step - loss: 0.5329 - accuracy: 0.8313\n",
      "Epoch 26/200\n",
      "8/8 [==============================] - 0s 3ms/step - loss: 0.5277 - accuracy: 0.8313\n",
      "Epoch 27/200\n",
      "8/8 [==============================] - 0s 3ms/step - loss: 0.5228 - accuracy: 0.8313\n",
      "Epoch 28/200\n",
      "8/8 [==============================] - 0s 4ms/step - loss: 0.5184 - accuracy: 0.8313\n",
      "Epoch 29/200\n",
      "8/8 [==============================] - 0s 4ms/step - loss: 0.5138 - accuracy: 0.8313\n",
      "Epoch 30/200\n",
      "8/8 [==============================] - 0s 4ms/step - loss: 0.5100 - accuracy: 0.8313\n",
      "Epoch 31/200\n",
      "8/8 [==============================] - 0s 4ms/step - loss: 0.5066 - accuracy: 0.8313\n",
      "Epoch 32/200\n",
      "8/8 [==============================] - 0s 6ms/step - loss: 0.5030 - accuracy: 0.8313\n",
      "Epoch 33/200\n",
      "8/8 [==============================] - 0s 4ms/step - loss: 0.4995 - accuracy: 0.8313\n",
      "Epoch 34/200\n",
      "8/8 [==============================] - 0s 3ms/step - loss: 0.4967 - accuracy: 0.8313\n",
      "Epoch 35/200\n",
      "8/8 [==============================] - 0s 3ms/step - loss: 0.4939 - accuracy: 0.8313\n",
      "Epoch 36/200\n",
      "8/8 [==============================] - 0s 4ms/step - loss: 0.4914 - accuracy: 0.8354\n",
      "Epoch 37/200\n",
      "8/8 [==============================] - 0s 4ms/step - loss: 0.4887 - accuracy: 0.8354\n",
      "Epoch 38/200\n",
      "8/8 [==============================] - 0s 4ms/step - loss: 0.4865 - accuracy: 0.8354\n",
      "Epoch 39/200\n",
      "8/8 [==============================] - 0s 4ms/step - loss: 0.4844 - accuracy: 0.8354\n",
      "Epoch 40/200\n",
      "8/8 [==============================] - 0s 3ms/step - loss: 0.4822 - accuracy: 0.8354\n",
      "Epoch 41/200\n",
      "8/8 [==============================] - 0s 4ms/step - loss: 0.4803 - accuracy: 0.8354\n",
      "Epoch 42/200\n",
      "8/8 [==============================] - 0s 4ms/step - loss: 0.4783 - accuracy: 0.8354\n",
      "Epoch 43/200\n",
      "8/8 [==============================] - 0s 5ms/step - loss: 0.4766 - accuracy: 0.8354\n",
      "Epoch 44/200\n",
      "8/8 [==============================] - 0s 4ms/step - loss: 0.4748 - accuracy: 0.8354\n",
      "Epoch 45/200\n",
      "8/8 [==============================] - 0s 4ms/step - loss: 0.4730 - accuracy: 0.8354\n",
      "Epoch 46/200\n",
      "8/8 [==============================] - 0s 4ms/step - loss: 0.4713 - accuracy: 0.8313\n",
      "Epoch 47/200\n",
      "8/8 [==============================] - 0s 3ms/step - loss: 0.4696 - accuracy: 0.8313\n",
      "Epoch 48/200\n",
      "8/8 [==============================] - 0s 3ms/step - loss: 0.4679 - accuracy: 0.8313\n",
      "Epoch 49/200\n",
      "8/8 [==============================] - 0s 4ms/step - loss: 0.4661 - accuracy: 0.8354\n",
      "Epoch 50/200\n",
      "8/8 [==============================] - 0s 3ms/step - loss: 0.4627 - accuracy: 0.8354\n",
      "Epoch 51/200\n",
      "8/8 [==============================] - 0s 3ms/step - loss: 0.4546 - accuracy: 0.8354\n",
      "Epoch 52/200\n",
      "8/8 [==============================] - 0s 3ms/step - loss: 0.4420 - accuracy: 0.8354\n",
      "Epoch 53/200\n",
      "8/8 [==============================] - 0s 3ms/step - loss: 0.4304 - accuracy: 0.8395\n",
      "Epoch 54/200\n",
      "8/8 [==============================] - 0s 4ms/step - loss: 0.4194 - accuracy: 0.8477\n",
      "Epoch 55/200\n",
      "8/8 [==============================] - 0s 3ms/step - loss: 0.4101 - accuracy: 0.8395\n",
      "Epoch 56/200\n",
      "8/8 [==============================] - 0s 3ms/step - loss: 0.4009 - accuracy: 0.8477\n",
      "Epoch 57/200\n",
      "8/8 [==============================] - 0s 4ms/step - loss: 0.3928 - accuracy: 0.8477\n",
      "Epoch 58/200\n",
      "8/8 [==============================] - 0s 4ms/step - loss: 0.3860 - accuracy: 0.8477\n",
      "Epoch 59/200\n",
      "8/8 [==============================] - 0s 3ms/step - loss: 0.3800 - accuracy: 0.8477\n",
      "Epoch 60/200\n",
      "8/8 [==============================] - 0s 3ms/step - loss: 0.3745 - accuracy: 0.8436\n",
      "Epoch 61/200\n",
      "8/8 [==============================] - 0s 3ms/step - loss: 0.3706 - accuracy: 0.8477\n",
      "Epoch 62/200\n",
      "8/8 [==============================] - 0s 3ms/step - loss: 0.3662 - accuracy: 0.8395\n",
      "Epoch 63/200\n",
      "8/8 [==============================] - 0s 4ms/step - loss: 0.3633 - accuracy: 0.8395\n",
      "Epoch 64/200\n",
      "8/8 [==============================] - 0s 3ms/step - loss: 0.3605 - accuracy: 0.8395\n",
      "Epoch 65/200\n",
      "8/8 [==============================] - 0s 3ms/step - loss: 0.3583 - accuracy: 0.8395\n",
      "Epoch 66/200\n",
      "8/8 [==============================] - 0s 3ms/step - loss: 0.3563 - accuracy: 0.8395\n",
      "Epoch 67/200\n",
      "8/8 [==============================] - 0s 4ms/step - loss: 0.3545 - accuracy: 0.8395\n",
      "Epoch 68/200\n",
      "8/8 [==============================] - 0s 4ms/step - loss: 0.3533 - accuracy: 0.8436\n",
      "Epoch 69/200\n",
      "8/8 [==============================] - 0s 4ms/step - loss: 0.3519 - accuracy: 0.8436\n",
      "Epoch 70/200\n",
      "8/8 [==============================] - 0s 4ms/step - loss: 0.3508 - accuracy: 0.8436\n",
      "Epoch 71/200\n",
      "8/8 [==============================] - 0s 4ms/step - loss: 0.3502 - accuracy: 0.8436\n",
      "Epoch 72/200\n",
      "8/8 [==============================] - 0s 4ms/step - loss: 0.3492 - accuracy: 0.8436\n",
      "Epoch 73/200\n",
      "8/8 [==============================] - 0s 4ms/step - loss: 0.3486 - accuracy: 0.8436\n",
      "Epoch 74/200\n",
      "8/8 [==============================] - 0s 4ms/step - loss: 0.3480 - accuracy: 0.8436\n",
      "Epoch 75/200\n",
      "8/8 [==============================] - 0s 4ms/step - loss: 0.3476 - accuracy: 0.8436\n",
      "Epoch 76/200\n",
      "8/8 [==============================] - 0s 4ms/step - loss: 0.3475 - accuracy: 0.8436\n",
      "Epoch 77/200\n",
      "8/8 [==============================] - 0s 4ms/step - loss: 0.3472 - accuracy: 0.8436\n",
      "Epoch 78/200\n",
      "8/8 [==============================] - 0s 4ms/step - loss: 0.3466 - accuracy: 0.8436\n",
      "Epoch 79/200\n",
      "8/8 [==============================] - 0s 4ms/step - loss: 0.3462 - accuracy: 0.8436\n",
      "Epoch 80/200\n",
      "8/8 [==============================] - 0s 4ms/step - loss: 0.3461 - accuracy: 0.8436\n",
      "Epoch 81/200\n",
      "8/8 [==============================] - 0s 4ms/step - loss: 0.3459 - accuracy: 0.8436\n",
      "Epoch 82/200\n",
      "8/8 [==============================] - 0s 4ms/step - loss: 0.3458 - accuracy: 0.8436\n",
      "Epoch 83/200\n",
      "8/8 [==============================] - 0s 4ms/step - loss: 0.3457 - accuracy: 0.8436\n",
      "Epoch 84/200\n",
      "8/8 [==============================] - 0s 4ms/step - loss: 0.3455 - accuracy: 0.8436\n",
      "Epoch 85/200\n",
      "8/8 [==============================] - 0s 4ms/step - loss: 0.3454 - accuracy: 0.8436\n",
      "Epoch 86/200\n",
      "8/8 [==============================] - 0s 3ms/step - loss: 0.3452 - accuracy: 0.8436\n",
      "Epoch 87/200\n",
      "8/8 [==============================] - 0s 4ms/step - loss: 0.3451 - accuracy: 0.8436\n",
      "Epoch 88/200\n",
      "8/8 [==============================] - 0s 4ms/step - loss: 0.3451 - accuracy: 0.8436\n",
      "Epoch 89/200\n",
      "8/8 [==============================] - 0s 4ms/step - loss: 0.3451 - accuracy: 0.8436\n",
      "Epoch 90/200\n",
      "8/8 [==============================] - 0s 4ms/step - loss: 0.3450 - accuracy: 0.8436\n",
      "Epoch 91/200\n",
      "8/8 [==============================] - 0s 4ms/step - loss: 0.3448 - accuracy: 0.8436\n",
      "Epoch 92/200\n",
      "8/8 [==============================] - 0s 4ms/step - loss: 0.3448 - accuracy: 0.8436\n",
      "Epoch 93/200\n",
      "8/8 [==============================] - 0s 4ms/step - loss: 0.3447 - accuracy: 0.8436\n",
      "Epoch 94/200\n",
      "8/8 [==============================] - 0s 4ms/step - loss: 0.3447 - accuracy: 0.8436\n",
      "Epoch 95/200\n",
      "8/8 [==============================] - 0s 3ms/step - loss: 0.3446 - accuracy: 0.8436\n",
      "Epoch 96/200\n",
      "8/8 [==============================] - 0s 4ms/step - loss: 0.3446 - accuracy: 0.8436\n",
      "Epoch 97/200\n",
      "8/8 [==============================] - 0s 4ms/step - loss: 0.3447 - accuracy: 0.8436\n",
      "Epoch 98/200\n",
      "8/8 [==============================] - 0s 4ms/step - loss: 0.3443 - accuracy: 0.8436\n",
      "Epoch 99/200\n",
      "8/8 [==============================] - 0s 4ms/step - loss: 0.3443 - accuracy: 0.8436\n",
      "Epoch 100/200\n",
      "8/8 [==============================] - 0s 4ms/step - loss: 0.3442 - accuracy: 0.8436\n",
      "Epoch 101/200\n",
      "8/8 [==============================] - 0s 4ms/step - loss: 0.3442 - accuracy: 0.8436\n",
      "Epoch 102/200\n",
      "8/8 [==============================] - 0s 3ms/step - loss: 0.3442 - accuracy: 0.8436\n",
      "Epoch 103/200\n",
      "8/8 [==============================] - 0s 3ms/step - loss: 0.3441 - accuracy: 0.8436\n",
      "Epoch 104/200\n",
      "8/8 [==============================] - 0s 4ms/step - loss: 0.3441 - accuracy: 0.8436\n",
      "Epoch 105/200\n",
      "8/8 [==============================] - 0s 4ms/step - loss: 0.3443 - accuracy: 0.8436\n",
      "Epoch 106/200\n",
      "8/8 [==============================] - 0s 3ms/step - loss: 0.3440 - accuracy: 0.8436\n",
      "Epoch 107/200\n",
      "8/8 [==============================] - 0s 3ms/step - loss: 0.3442 - accuracy: 0.8436\n",
      "Epoch 108/200\n",
      "8/8 [==============================] - 0s 3ms/step - loss: 0.3443 - accuracy: 0.8477\n",
      "Epoch 109/200\n",
      "8/8 [==============================] - 0s 3ms/step - loss: 0.3439 - accuracy: 0.8477\n",
      "Epoch 110/200\n",
      "8/8 [==============================] - 0s 4ms/step - loss: 0.3439 - accuracy: 0.8436\n",
      "Epoch 111/200\n",
      "8/8 [==============================] - 0s 3ms/step - loss: 0.3438 - accuracy: 0.8436\n",
      "Epoch 112/200\n",
      "8/8 [==============================] - 0s 4ms/step - loss: 0.3437 - accuracy: 0.8436\n",
      "Epoch 113/200\n",
      "8/8 [==============================] - 0s 4ms/step - loss: 0.3438 - accuracy: 0.8436\n",
      "Epoch 114/200\n",
      "8/8 [==============================] - 0s 4ms/step - loss: 0.3438 - accuracy: 0.8436\n",
      "Epoch 115/200\n",
      "8/8 [==============================] - 0s 4ms/step - loss: 0.3438 - accuracy: 0.8436\n",
      "Epoch 116/200\n",
      "8/8 [==============================] - 0s 4ms/step - loss: 0.3437 - accuracy: 0.8395\n",
      "Epoch 117/200\n",
      "8/8 [==============================] - 0s 3ms/step - loss: 0.3436 - accuracy: 0.8436\n",
      "Epoch 118/200\n",
      "8/8 [==============================] - 0s 4ms/step - loss: 0.3436 - accuracy: 0.8436\n",
      "Epoch 119/200\n",
      "8/8 [==============================] - 0s 4ms/step - loss: 0.3437 - accuracy: 0.8436\n",
      "Epoch 120/200\n",
      "8/8 [==============================] - 0s 4ms/step - loss: 0.3434 - accuracy: 0.8436\n",
      "Epoch 121/200\n",
      "8/8 [==============================] - 0s 4ms/step - loss: 0.3434 - accuracy: 0.8436\n",
      "Epoch 122/200\n",
      "8/8 [==============================] - 0s 4ms/step - loss: 0.3433 - accuracy: 0.8436\n",
      "Epoch 123/200\n",
      "8/8 [==============================] - 0s 4ms/step - loss: 0.3434 - accuracy: 0.8436\n",
      "Epoch 124/200\n",
      "8/8 [==============================] - 0s 4ms/step - loss: 0.3432 - accuracy: 0.8436\n",
      "Epoch 125/200\n",
      "8/8 [==============================] - 0s 3ms/step - loss: 0.3435 - accuracy: 0.8436\n",
      "Epoch 126/200\n",
      "8/8 [==============================] - 0s 3ms/step - loss: 0.3431 - accuracy: 0.8436\n",
      "Epoch 127/200\n",
      "8/8 [==============================] - 0s 3ms/step - loss: 0.3431 - accuracy: 0.8436\n",
      "Epoch 128/200\n",
      "8/8 [==============================] - 0s 4ms/step - loss: 0.3430 - accuracy: 0.8436\n",
      "Epoch 129/200\n",
      "8/8 [==============================] - 0s 4ms/step - loss: 0.3430 - accuracy: 0.8436\n",
      "Epoch 130/200\n",
      "8/8 [==============================] - 0s 4ms/step - loss: 0.3430 - accuracy: 0.8436\n",
      "Epoch 131/200\n",
      "8/8 [==============================] - 0s 4ms/step - loss: 0.3429 - accuracy: 0.8436\n",
      "Epoch 132/200\n",
      "8/8 [==============================] - 0s 4ms/step - loss: 0.3428 - accuracy: 0.8436\n",
      "Epoch 133/200\n",
      "8/8 [==============================] - 0s 4ms/step - loss: 0.3427 - accuracy: 0.8436\n",
      "Epoch 134/200\n",
      "8/8 [==============================] - 0s 4ms/step - loss: 0.3428 - accuracy: 0.8436\n",
      "Epoch 135/200\n",
      "8/8 [==============================] - 0s 4ms/step - loss: 0.3427 - accuracy: 0.8436\n",
      "Epoch 136/200\n",
      "8/8 [==============================] - 0s 4ms/step - loss: 0.3426 - accuracy: 0.8436\n",
      "Epoch 137/200\n",
      "8/8 [==============================] - 0s 4ms/step - loss: 0.3426 - accuracy: 0.8436\n",
      "Epoch 138/200\n",
      "8/8 [==============================] - 0s 4ms/step - loss: 0.3425 - accuracy: 0.8436\n",
      "Epoch 139/200\n",
      "8/8 [==============================] - 0s 4ms/step - loss: 0.3426 - accuracy: 0.8477\n",
      "Epoch 140/200\n",
      "8/8 [==============================] - 0s 4ms/step - loss: 0.3425 - accuracy: 0.8477\n",
      "Epoch 141/200\n",
      "8/8 [==============================] - 0s 3ms/step - loss: 0.3425 - accuracy: 0.8477\n",
      "Epoch 142/200\n",
      "8/8 [==============================] - 0s 3ms/step - loss: 0.3424 - accuracy: 0.8477\n",
      "Epoch 143/200\n",
      "8/8 [==============================] - 0s 3ms/step - loss: 0.3426 - accuracy: 0.8477\n",
      "Epoch 144/200\n",
      "8/8 [==============================] - 0s 3ms/step - loss: 0.3423 - accuracy: 0.8477\n",
      "Epoch 145/200\n",
      "8/8 [==============================] - 0s 3ms/step - loss: 0.3425 - accuracy: 0.8436\n",
      "Epoch 146/200\n",
      "8/8 [==============================] - 0s 3ms/step - loss: 0.3424 - accuracy: 0.8477\n",
      "Epoch 147/200\n",
      "8/8 [==============================] - 0s 3ms/step - loss: 0.3422 - accuracy: 0.8436\n",
      "Epoch 148/200\n",
      "8/8 [==============================] - 0s 3ms/step - loss: 0.3422 - accuracy: 0.8436\n",
      "Epoch 149/200\n",
      "8/8 [==============================] - 0s 4ms/step - loss: 0.3422 - accuracy: 0.8436\n",
      "Epoch 150/200\n",
      "8/8 [==============================] - 0s 3ms/step - loss: 0.3424 - accuracy: 0.8436\n",
      "Epoch 151/200\n",
      "8/8 [==============================] - 0s 3ms/step - loss: 0.3421 - accuracy: 0.8436\n",
      "Epoch 152/200\n",
      "8/8 [==============================] - 0s 3ms/step - loss: 0.3422 - accuracy: 0.8477\n",
      "Epoch 153/200\n",
      "8/8 [==============================] - 0s 3ms/step - loss: 0.3420 - accuracy: 0.8477\n",
      "Epoch 154/200\n",
      "8/8 [==============================] - 0s 4ms/step - loss: 0.3421 - accuracy: 0.8477\n",
      "Epoch 155/200\n",
      "8/8 [==============================] - 0s 3ms/step - loss: 0.3419 - accuracy: 0.8477\n",
      "Epoch 156/200\n",
      "8/8 [==============================] - 0s 4ms/step - loss: 0.3420 - accuracy: 0.8477\n",
      "Epoch 157/200\n",
      "8/8 [==============================] - 0s 4ms/step - loss: 0.3418 - accuracy: 0.8477\n",
      "Epoch 158/200\n",
      "8/8 [==============================] - 0s 4ms/step - loss: 0.3419 - accuracy: 0.8477\n",
      "Epoch 159/200\n",
      "8/8 [==============================] - 0s 4ms/step - loss: 0.3417 - accuracy: 0.8477\n",
      "Epoch 160/200\n",
      "8/8 [==============================] - 0s 4ms/step - loss: 0.3417 - accuracy: 0.8477\n",
      "Epoch 161/200\n",
      "8/8 [==============================] - 0s 4ms/step - loss: 0.3416 - accuracy: 0.8477\n",
      "Epoch 162/200\n",
      "8/8 [==============================] - 0s 4ms/step - loss: 0.3417 - accuracy: 0.8477\n",
      "Epoch 163/200\n",
      "8/8 [==============================] - 0s 4ms/step - loss: 0.3422 - accuracy: 0.8477\n",
      "Epoch 164/200\n",
      "8/8 [==============================] - 0s 4ms/step - loss: 0.3416 - accuracy: 0.8477\n",
      "Epoch 165/200\n",
      "8/8 [==============================] - 0s 4ms/step - loss: 0.3415 - accuracy: 0.8477\n",
      "Epoch 166/200\n",
      "8/8 [==============================] - 0s 4ms/step - loss: 0.3416 - accuracy: 0.8477\n",
      "Epoch 167/200\n",
      "8/8 [==============================] - 0s 3ms/step - loss: 0.3415 - accuracy: 0.8477\n",
      "Epoch 168/200\n",
      "8/8 [==============================] - 0s 3ms/step - loss: 0.3414 - accuracy: 0.8477\n",
      "Epoch 169/200\n",
      "8/8 [==============================] - 0s 4ms/step - loss: 0.3414 - accuracy: 0.8436\n",
      "Epoch 170/200\n",
      "8/8 [==============================] - 0s 4ms/step - loss: 0.3414 - accuracy: 0.8436\n",
      "Epoch 171/200\n",
      "8/8 [==============================] - 0s 4ms/step - loss: 0.3414 - accuracy: 0.8436\n",
      "Epoch 172/200\n",
      "8/8 [==============================] - 0s 3ms/step - loss: 0.3413 - accuracy: 0.8436\n",
      "Epoch 173/200\n",
      "8/8 [==============================] - 0s 3ms/step - loss: 0.3413 - accuracy: 0.8477\n",
      "Epoch 174/200\n",
      "8/8 [==============================] - 0s 4ms/step - loss: 0.3412 - accuracy: 0.8477\n",
      "Epoch 175/200\n",
      "8/8 [==============================] - 0s 4ms/step - loss: 0.3412 - accuracy: 0.8477\n",
      "Epoch 176/200\n",
      "8/8 [==============================] - 0s 4ms/step - loss: 0.3413 - accuracy: 0.8477\n",
      "Epoch 177/200\n",
      "8/8 [==============================] - 0s 4ms/step - loss: 0.3411 - accuracy: 0.8477\n",
      "Epoch 178/200\n",
      "8/8 [==============================] - 0s 4ms/step - loss: 0.3412 - accuracy: 0.8477\n",
      "Epoch 179/200\n",
      "8/8 [==============================] - 0s 4ms/step - loss: 0.3411 - accuracy: 0.8477\n",
      "Epoch 180/200\n",
      "8/8 [==============================] - 0s 4ms/step - loss: 0.3411 - accuracy: 0.8477\n",
      "Epoch 181/200\n",
      "8/8 [==============================] - 0s 4ms/step - loss: 0.3411 - accuracy: 0.8477\n",
      "Epoch 182/200\n",
      "8/8 [==============================] - 0s 4ms/step - loss: 0.3414 - accuracy: 0.8477\n",
      "Epoch 183/200\n",
      "8/8 [==============================] - 0s 4ms/step - loss: 0.3411 - accuracy: 0.8477\n",
      "Epoch 184/200\n",
      "8/8 [==============================] - 0s 4ms/step - loss: 0.3410 - accuracy: 0.8477\n",
      "Epoch 185/200\n",
      "8/8 [==============================] - 0s 4ms/step - loss: 0.3411 - accuracy: 0.8477\n",
      "Epoch 186/200\n",
      "8/8 [==============================] - 0s 4ms/step - loss: 0.3410 - accuracy: 0.8436\n",
      "Epoch 187/200\n",
      "8/8 [==============================] - 0s 4ms/step - loss: 0.3409 - accuracy: 0.8436\n",
      "Epoch 188/200\n",
      "8/8 [==============================] - 0s 4ms/step - loss: 0.3409 - accuracy: 0.8477\n",
      "Epoch 189/200\n",
      "8/8 [==============================] - 0s 4ms/step - loss: 0.3409 - accuracy: 0.8477\n",
      "Epoch 190/200\n",
      "8/8 [==============================] - 0s 4ms/step - loss: 0.3413 - accuracy: 0.8477\n",
      "Epoch 191/200\n",
      "8/8 [==============================] - 0s 3ms/step - loss: 0.3408 - accuracy: 0.8477\n",
      "Epoch 192/200\n",
      "8/8 [==============================] - 0s 4ms/step - loss: 0.3408 - accuracy: 0.8477\n",
      "Epoch 193/200\n",
      "8/8 [==============================] - 0s 3ms/step - loss: 0.3408 - accuracy: 0.8477\n",
      "Epoch 194/200\n",
      "8/8 [==============================] - 0s 4ms/step - loss: 0.3408 - accuracy: 0.8477\n",
      "Epoch 195/200\n",
      "8/8 [==============================] - 0s 5ms/step - loss: 0.3408 - accuracy: 0.8477\n",
      "Epoch 196/200\n",
      "8/8 [==============================] - 0s 4ms/step - loss: 0.3408 - accuracy: 0.8477\n",
      "Epoch 197/200\n",
      "8/8 [==============================] - 0s 4ms/step - loss: 0.3408 - accuracy: 0.8477\n",
      "Epoch 198/200\n",
      "8/8 [==============================] - 0s 3ms/step - loss: 0.3407 - accuracy: 0.8477\n",
      "Epoch 199/200\n",
      "8/8 [==============================] - 0s 3ms/step - loss: 0.3406 - accuracy: 0.8477\n",
      "Epoch 200/200\n",
      "8/8 [==============================] - 0s 3ms/step - loss: 0.3407 - accuracy: 0.8477\n"
     ]
    },
    {
     "data": {
      "text/plain": [
       "<keras.callbacks.History at 0x1643bf35780>"
      ]
     },
     "execution_count": 27,
     "metadata": {},
     "output_type": "execute_result"
    }
   ],
   "source": [
    "import tensorflow as tf\n",
    "ann = tf.keras.models.Sequential()\n",
    "ann.add(tf.keras.layers.Dense(units=6, activation='relu'))\n",
    "ann.add(tf.keras.layers.Dense(units=6, activation='relu'))\n",
    "ann.add(tf.keras.layers.Dense(units=1, activation='sigmoid'))\n",
    "ann.compile(optimizer = 'adam', loss = 'binary_crossentropy', metrics = ['accuracy'])\n",
    "ann.fit(X_train, Y_train, batch_size = 32, epochs = 200)"
   ]
  },
  {
   "cell_type": "code",
   "execution_count": 29,
   "id": "7f7b9a59",
   "metadata": {},
   "outputs": [
    {
     "name": "stdout",
     "output_type": "stream",
     "text": [
      "2/2 [==============================] - 0s 5ms/step\n"
     ]
    }
   ],
   "source": [
    "y_pred = ann.predict(X_test)\n",
    "y_pred = (y_pred > 0.5)"
   ]
  },
  {
   "cell_type": "code",
   "execution_count": 30,
   "id": "53ae3bdd",
   "metadata": {},
   "outputs": [
    {
     "name": "stdout",
     "output_type": "stream",
     "text": [
      "[[23  6]\n",
      " [ 3 29]]\n"
     ]
    },
    {
     "data": {
      "text/plain": [
       "0.8524590163934426"
      ]
     },
     "execution_count": 30,
     "metadata": {},
     "output_type": "execute_result"
    }
   ],
   "source": [
    "from sklearn.metrics import confusion_matrix, accuracy_score\n",
    "cm = confusion_matrix(Y_test, y_pred)\n",
    "print(cm)\n",
    "accuracy_score(Y_test, y_pred)"
   ]
  }
 ],
 "metadata": {
  "kernelspec": {
   "display_name": "Python 3 (ipykernel)",
   "language": "python",
   "name": "python3"
  },
  "language_info": {
   "codemirror_mode": {
    "name": "ipython",
    "version": 3
   },
   "file_extension": ".py",
   "mimetype": "text/x-python",
   "name": "python",
   "nbconvert_exporter": "python",
   "pygments_lexer": "ipython3",
   "version": "3.10.6"
  }
 },
 "nbformat": 4,
 "nbformat_minor": 5
}
